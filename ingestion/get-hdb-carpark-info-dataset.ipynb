{
	"metadata": {
		"kernelspec": {
			"display_name": "Glue PySpark",
			"language": "python",
			"name": "glue_pyspark"
		},
		"language_info": {
			"codemirror_mode": {
				"name": "python",
				"version": 3
			},
			"file_extension": ".py",
			"mimetype": "text/x-python",
			"name": "Python_Glue_Session",
			"pygments_lexer": "python3"
		}
	},
	"nbformat_minor": 5,
	"nbformat": 4,
	"cells": [
		{
			"cell_type": "code",
			"source": "import requests\nimport json\nimport boto3\n\nfrom awsglue.context import GlueContext\nfrom pyspark.context import SparkContext",
			"metadata": {
				"trusted": true,
				"tags": []
			},
			"execution_count": 1,
			"outputs": [
				{
					"name": "stdout",
					"text": "Welcome to the Glue Interactive Sessions Kernel\nFor more information on available magic commands, please type %help in any new cell.\n\nPlease view our Getting Started page to access the most up-to-date information on the Interactive Sessions kernel: https://docs.aws.amazon.com/glue/latest/dg/interactive-sessions.html\nInstalled kernel version: 1.0.8 \nTrying to create a Glue session for the kernel.\nSession Type: glueetl\nSession ID: 3e5226b5-f563-416e-9275-ca58525c18f2\nApplying the following default arguments:\n--glue_kernel_version 1.0.8\n--enable-glue-datacatalog true\nWaiting for session 3e5226b5-f563-416e-9275-ca58525c18f2 to get into ready status...\nSession 3e5226b5-f563-416e-9275-ca58525c18f2 has been created.\n\n",
					"output_type": "stream"
				}
			],
			"id": "8cf6b035-307c-436b-8b3b-6ae2f46bb0c1"
		},
		{
			"cell_type": "code",
			"source": "# Initialize Glue and Spark\nsc = SparkContext.getOrCreate()\nglueContext = GlueContext(sc)\nspark = glueContext.spark_session",
			"metadata": {
				"trusted": true,
				"tags": []
			},
			"execution_count": 2,
			"outputs": [
				{
					"name": "stdout",
					"text": "\n",
					"output_type": "stream"
				}
			],
			"id": "c60b6980-59c2-4173-a086-601f0d4ffe82"
		},
		{
			"cell_type": "code",
			"source": "# --- Call the API ---\ndataset_id = \"d_23f946fa557947f93a8043bbef41dd09\"\nurl = f\"https://data.gov.sg/api/action/datastore_search?resource_id={dataset_id}\"\nresponse = requests.get(url)\nrecords = response.json()[\"result\"][\"records\"]",
			"metadata": {
				"trusted": true,
				"tags": []
			},
			"execution_count": 3,
			"outputs": [
				{
					"name": "stdout",
					"text": "\n",
					"output_type": "stream"
				}
			],
			"id": "e42afc77-6df7-4322-907b-f70efa4c383e"
		},
		{
			"cell_type": "code",
			"source": "# --- Convert JSON to Spark DataFrame ---\ndf = spark.read.json(sc.parallelize([json.dumps(records)]))",
			"metadata": {
				"trusted": true,
				"tags": []
			},
			"execution_count": 4,
			"outputs": [
				{
					"name": "stdout",
					"text": "\n",
					"output_type": "stream"
				}
			],
			"id": "93c33247-a14a-4fb0-8f93-d5ad8f390936"
		},
		{
			"cell_type": "code",
			"source": "# --- Save to temporary S3 folder ---\nbucket = \"hdb-carpark-info\"\ntemp_prefix = \"temp-output/\"\nfinal_key = \"HDBCarparkInformation.csv\"\n\ntemp_s3_path = f\"s3://{bucket}/{temp_prefix}\"\ndf.coalesce(1).write.mode(\"overwrite\").option(\"header\", True).csv(temp_s3_path)",
			"metadata": {
				"trusted": true,
				"tags": []
			},
			"execution_count": 5,
			"outputs": [
				{
					"name": "stdout",
					"text": "\n",
					"output_type": "stream"
				}
			],
			"id": "ccf7c823-0027-4a4a-879b-f4bc62fd91a3"
		},
		{
			"cell_type": "code",
			"source": "# --- Rename part file to desired CSV name ---\ns3 = boto3.client(\"s3\")\nresponse = s3.list_objects_v2(Bucket=bucket, Prefix=temp_prefix)\n\n# Find part-*.csv file\npart_file_key = next(obj[\"Key\"] for obj in response[\"Contents\"] if obj[\"Key\"].endswith(\".csv\"))\n\n# Copy it to final destination\ns3.copy_object(\n    Bucket=bucket,\n    CopySource={\"Bucket\": bucket, \"Key\": part_file_key},\n    Key=final_key\n)\n\n# (Optional) Clean up temp files\nfor obj in response[\"Contents\"]:\n    s3.delete_object(Bucket=bucket, Key=obj[\"Key\"])",
			"metadata": {
				"trusted": true,
				"tags": []
			},
			"execution_count": 6,
			"outputs": [
				{
					"name": "stdout",
					"text": "{'ResponseMetadata': {'RequestId': '0TQ06MB6X41C6S0F', 'HostId': '12mgTSzt1wQb0Uwkj/kIzUzIrNbbKZkrza+/UqdkQ8vvSE26fgdQEGIzNc+u8XN0DXblLyR+amQ=', 'HTTPStatusCode': 204, 'HTTPHeaders': {'x-amz-id-2': '12mgTSzt1wQb0Uwkj/kIzUzIrNbbKZkrza+/UqdkQ8vvSE26fgdQEGIzNc+u8XN0DXblLyR+amQ=', 'x-amz-request-id': '0TQ06MB6X41C6S0F', 'date': 'Wed, 09 Apr 2025 15:41:24 GMT', 'server': 'AmazonS3'}, 'RetryAttempts': 0}}\n",
					"output_type": "stream"
				}
			],
			"id": "aff80288"
		},
		{
			"cell_type": "code",
			"source": "print(f\"✅ CSV saved as s3://{bucket}/{final_key}\")",
			"metadata": {
				"trusted": true,
				"tags": []
			},
			"execution_count": 7,
			"outputs": [
				{
					"name": "stdout",
					"text": "✅ CSV saved as s3://hdb-carpark-info/HDBCarparkInformation.csv\n",
					"output_type": "stream"
				}
			],
			"id": "271207c0-ba5b-4566-8847-085ed8bc4234"
		},
		{
			"cell_type": "code",
			"source": "",
			"metadata": {},
			"execution_count": null,
			"outputs": [],
			"id": "a3316777-4c84-4253-a991-73ceffc8ea37"
		}
	]
}